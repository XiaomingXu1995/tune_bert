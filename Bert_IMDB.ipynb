{
 "cells": [
  {
   "cell_type": "code",
   "execution_count": 32,
   "id": "3bfd6b43-ed18-43f8-9111-40c0bec66bc6",
   "metadata": {},
   "outputs": [
    {
     "name": "stdout",
     "output_type": "stream",
     "text": [
      "25000\n"
     ]
    },
    {
     "data": {
      "text/plain": [
       "('I rented I AM CURIOUS-YELLOW from my video store because of all the controversy that surrounded it when it was first released in 1967. I also heard that at first it was seized by U.S. customs if it ever tried to enter this country, therefore being a fan of films considered \"controversial\" I really had to see this for myself.<br /><br />The plot is centered around a young Swedish drama student named Lena who wants to learn everything she can about life. In particular she wants to focus her attentions to making some sort of documentary on what the average Swede thought about certain political issues such as the Vietnam War and race issues in the United States. In between asking politicians and ordinary denizens of Stockholm about their opinions on politics, she has sex with her drama teacher, classmates, and married men.<br /><br />What kills me about I AM CURIOUS-YELLOW is that 40 years ago, this was considered pornographic. Really, the sex and nudity scenes are few and far between, even then it\\'s not shot like some cheaply made porno. While my countrymen mind find it shocking, in reality sex and nudity are a major staple in Swedish cinema. Even Ingmar Bergman, arguably their answer to good old boy John Ford, had sex scenes in his films.<br /><br />I do commend the filmmakers for the fact that any sex shown in the film is shown for artistic purposes rather than just to shock people and make money to be shown in pornographic theaters in America. I AM CURIOUS-YELLOW is a good film for anyone wanting to study the meat and potatoes (no pun intended) of Swedish cinema. But really, this film doesn\\'t have much of a plot.',\n",
       " 0)"
      ]
     },
     "execution_count": 32,
     "metadata": {},
     "output_type": "execute_result"
    }
   ],
   "source": [
    "import torch\n",
    "from datasets import load_dataset\n",
    "\n",
    "class Dataset(torch.utils.data.Dataset):\n",
    "    def __init__(self, split):\n",
    "        self.dataset = load_dataset(path='data_dir/stanfordnlp_imdb/', split=split)\n",
    "        \n",
    "    def __len__(self):\n",
    "        return len(self.dataset)\n",
    "    def __getitem__(self, i):\n",
    "        text = self.dataset[i]['text']\n",
    "        label = self.dataset[i]['label']\n",
    "\n",
    "        return text, label\n",
    "\n",
    "dataset = Dataset('train')\n",
    "\n",
    "print(len(dataset))\n",
    "\n",
    "dataset[0]\n",
    "\n",
    "    "
   ]
  },
  {
   "cell_type": "code",
   "execution_count": 33,
   "id": "3672426c-daf2-404f-bcb6-8d61813b84ab",
   "metadata": {},
   "outputs": [
    {
     "name": "stderr",
     "output_type": "stream",
     "text": [
      "/home/user_home/xiaomingxu/mambaforge/lib/python3.10/site-packages/transformers/tokenization_utils_base.py:1601: FutureWarning: `clean_up_tokenization_spaces` was not set. It will be set to `True` by default. This behavior will be depracted in transformers v4.45, and will be then set to `False` by default. For more details check this issue: https://github.com/huggingface/transformers/issues/31884\n",
      "  warnings.warn(\n"
     ]
    },
    {
     "data": {
      "text/plain": [
       "BertTokenizer(name_or_path='model_dir/bert-large-uncased/', vocab_size=30522, model_max_length=512, is_fast=False, padding_side='right', truncation_side='right', special_tokens={'unk_token': '[UNK]', 'sep_token': '[SEP]', 'pad_token': '[PAD]', 'cls_token': '[CLS]', 'mask_token': '[MASK]'}, clean_up_tokenization_spaces=True),  added_tokens_decoder={\n",
       "\t0: AddedToken(\"[PAD]\", rstrip=False, lstrip=False, single_word=False, normalized=False, special=True),\n",
       "\t100: AddedToken(\"[UNK]\", rstrip=False, lstrip=False, single_word=False, normalized=False, special=True),\n",
       "\t101: AddedToken(\"[CLS]\", rstrip=False, lstrip=False, single_word=False, normalized=False, special=True),\n",
       "\t102: AddedToken(\"[SEP]\", rstrip=False, lstrip=False, single_word=False, normalized=False, special=True),\n",
       "\t103: AddedToken(\"[MASK]\", rstrip=False, lstrip=False, single_word=False, normalized=False, special=True),\n",
       "}"
      ]
     },
     "execution_count": 33,
     "metadata": {},
     "output_type": "execute_result"
    }
   ],
   "source": [
    "from transformers import BertTokenizer\n",
    "\n",
    "token = BertTokenizer.from_pretrained('model_dir/bert-large-uncased/')\n",
    "\n",
    "token\n"
   ]
  },
  {
   "cell_type": "code",
   "execution_count": 34,
   "id": "4b03cc9b-eca8-4f50-8ffa-701dc511bcbb",
   "metadata": {},
   "outputs": [
    {
     "name": "stdout",
     "output_type": "stream",
     "text": [
      "1562\n"
     ]
    },
    {
     "data": {
      "text/plain": [
       "(torch.Size([16, 512]),\n",
       " torch.Size([16, 512]),\n",
       " torch.Size([16, 512]),\n",
       " tensor([1, 0, 0, 1, 1, 0, 0, 1, 1, 0, 1, 1, 1, 0, 0, 1]))"
      ]
     },
     "execution_count": 34,
     "metadata": {},
     "output_type": "execute_result"
    }
   ],
   "source": [
    "def collate_fn(data):\n",
    "    sents = [i[0] for i in data]\n",
    "    labels = [i[1] for i in data]\n",
    "\n",
    "    # encoding\n",
    "    data = token.batch_encode_plus(batch_text_or_text_pairs=sents,\n",
    "                                    truncation=True,\n",
    "                                    padding = 'max_length',\n",
    "                                    max_length = 512,\n",
    "                                    return_tensors='pt',\n",
    "                                    return_length=True)\n",
    "\n",
    "    # input_ids numbers after encoding\n",
    "    # atention_mask: padding positions are 0, the others are 1\n",
    "    input_ids = data['input_ids']\n",
    "    attention_mask = data['attention_mask']\n",
    "    token_type_ids = data['token_type_ids']\n",
    "    labels = torch.LongTensor(labels)\n",
    "\n",
    "    return input_ids, attention_mask, token_type_ids, labels\n",
    "\n",
    "loader = torch.utils.data.DataLoader(dataset = dataset,\n",
    "                                     batch_size=16,\n",
    "                                     collate_fn=collate_fn,\n",
    "                                     shuffle=True,\n",
    "                                     drop_last=True)\n",
    "\n",
    "for i, (input_ids, attention_mask, token_type_ids, labels) in enumerate(loader):\n",
    "    break\n",
    "\n",
    "print(len(loader))\n",
    "input_ids.shape, attention_mask.shape, token_type_ids.shape, labels\n",
    "\n",
    "    "
   ]
  },
  {
   "cell_type": "code",
   "execution_count": 49,
   "id": "ef9c50f4-3600-4fcd-9a94-4f2b932150c7",
   "metadata": {},
   "outputs": [
    {
     "name": "stdout",
     "output_type": "stream",
     "text": [
      "391\n"
     ]
    },
    {
     "data": {
      "text/plain": [
       "torch.Size([16, 512, 1024])"
      ]
     },
     "execution_count": 49,
     "metadata": {},
     "output_type": "execute_result"
    }
   ],
   "source": [
    "from transformers import BertModel\n",
    "\n",
    "device = torch.device('cuda' if torch.cuda.is_available() else 'cpu')\n",
    "\n",
    "pretrained = BertModel.from_pretrained('model_dir/bert-large-uncased/').to(device)\n",
    "\n",
    "# num = 0\n",
    "for param in pretrained.parameters():\n",
    "    param.requires_grad_(True)\n",
    "\n",
    "# test model\n",
    "input_ids = input_ids.to(device)\n",
    "attention_mask = attention_mask.to(device)\n",
    "token_type_ids = token_type_ids.to(device)\n",
    "\n",
    "out = pretrained(input_ids=input_ids,\n",
    "                 attention_mask=attention_mask,\n",
    "                 token_type_ids=token_type_ids)\n",
    "\n",
    "out.last_hidden_state.shape"
   ]
  },
  {
   "cell_type": "code",
   "execution_count": 50,
   "id": "7da531e0-af0a-467c-aabb-bf7102bb5fec",
   "metadata": {},
   "outputs": [
    {
     "data": {
      "text/plain": [
       "torch.Size([16, 2])"
      ]
     },
     "execution_count": 50,
     "metadata": {},
     "output_type": "execute_result"
    }
   ],
   "source": [
    "class Model(torch.nn.Module):\n",
    "    def __init__(self):\n",
    "        super().__init__()\n",
    "        self.fc = torch.nn.Linear(1024, 2)\n",
    "\n",
    "    def forward(self, input_ids, attention_mask, token_type_ids):\n",
    "        # with torch.no_grad():\n",
    "        out = pretrained(input_ids=input_ids,\n",
    "                         attention_mask=attention_mask,\n",
    "                         token_type_ids=token_type_ids)\n",
    "        out = self.fc(out.last_hidden_state[:, 0])\n",
    "        # out = out.softmax(dim=1)\n",
    "        return out\n",
    "\n",
    "model = Model().to(device)\n",
    "\n",
    "model(input_ids=input_ids,\n",
    "      attention_mask=attention_mask,\n",
    "      token_type_ids=token_type_ids).shape\n"
   ]
  },
  {
   "cell_type": "code",
   "execution_count": 60,
   "id": "4d9dfe11-ddda-4610-bad0-117b0e7e2690",
   "metadata": {},
   "outputs": [
    {
     "name": "stdout",
     "output_type": "stream",
     "text": [
      "cuda\n",
      "1.0817129611968994 0 0.49904462695121765 0.75\n",
      "104.07298970222473 100 0.34007152915000916 0.8125\n",
      "104.49229693412781 200 0.4733685553073883 0.75\n",
      "104.48357939720154 300 0.6417906284332275 0.6875\n",
      "104.49652194976807 400 0.5343965888023376 0.8125\n",
      "104.48903036117554 500 0.30215781927108765 0.875\n",
      "104.39909744262695 600 0.5261951088905334 0.875\n",
      "104.40833878517151 700 0.42340588569641113 0.8125\n",
      "104.4056625366211 800 0.32407280802726746 0.8125\n",
      "104.47412610054016 900 0.32360363006591797 0.8125\n",
      "104.47718501091003 1000 0.5297964215278625 0.8125\n",
      "104.47092652320862 1100 0.49231386184692383 0.8125\n",
      "104.42364931106567 1200 0.2538117468357086 1.0\n",
      "104.45667576789856 1300 0.9778323173522949 0.5625\n",
      "104.47153663635254 1400 0.3411208987236023 0.8125\n",
      "104.51145648956299 1500 0.29280781745910645 0.8125\n",
      "the Elapsed time: 1630.9658122062683\n"
     ]
    }
   ],
   "source": [
    "from transformers import AdamW\n",
    "import time\n",
    "print(device)\n",
    "\n",
    "optimizer = AdamW(model.parameters(), lr=5e-4)\n",
    "criterion = torch.nn.CrossEntropyLoss()\n",
    "\n",
    "start = time.time()\n",
    "model.train()\n",
    "# for param in model.parameters():\n",
    "#     print(param.requires_grad)\n",
    "iter_start = start\n",
    "for i, (input_ids, attention_mask, token_type_ids, labels) in enumerate(loader):\n",
    "    input_ids = input_ids.to(device)\n",
    "    attention_mask = attention_mask.to(device)\n",
    "    token_type_ids = token_type_ids.to(device)\n",
    "    labels = labels.to(device)\n",
    "\n",
    "    out = model(input_ids=input_ids,\n",
    "                attention_mask=attention_mask,\n",
    "                token_type_ids=token_type_ids)\n",
    "    # print(out.grad_fn)\n",
    "    # print(input_ids.requires_grad)\n",
    "    # break\n",
    "    loss = criterion(out, labels)\n",
    "    # print(loss.shape)\n",
    "    # print(loss)\n",
    "    # break\n",
    "    # loss = loss.mean()\n",
    "    loss.backward()\n",
    "    optimizer.step()\n",
    "    optimizer.zero_grad()\n",
    "\n",
    "    if i % 100 == 0:\n",
    "        out = out.argmax(dim=1)\n",
    "        accuracy = (out == labels).sum().item()/ len(labels)\n",
    "        # print(len(labels))\n",
    "        iter_time = time.time() - iter_start\n",
    "        print(iter_time, i, loss.item(), accuracy)\n",
    "        iter_start = time.time()\n",
    "        \n",
    "end = time.time()\n",
    "elapsed_time = end - start\n",
    "print(f\"the Elapsed time: {elapsed_time}\")"
   ]
  },
  {
   "cell_type": "code",
   "execution_count": 80,
   "id": "53ae3d58-f17d-4209-9ae8-94e86161b56a",
   "metadata": {},
   "outputs": [
    {
     "name": "stdout",
     "output_type": "stream",
     "text": [
      "finished\n"
     ]
    }
   ],
   "source": [
    "torch.save(model.state_dict(), 'model_dir/bert_large_uncased_imdb_bs16.pth')\n",
    "torch.save(model, 'model_dir/bert_large_uncased_imdb_bs16')\n",
    "pretrained.save_pretrained('model_dir/bert_large_uncased_imdb_pretrained')\n",
    "token.save_pretrained('model_dir/bert_large_uncased_imdb_pretrained')\n",
    "# torch.save(pretrained.state_dict(), 'model_dir/bert_large_uncased_imdb_pretrained.pth')\n",
    "# torch.save(pretrained, 'model_dir/bert_large_uncased_imdb_pretrained')\n",
    "print(\"finished\")"
   ]
  },
  {
   "cell_type": "code",
   "execution_count": 85,
   "id": "308e3e5d-f50c-4f73-acd4-261a70f77e0e",
   "metadata": {},
   "outputs": [
    {
     "name": "stdout",
     "output_type": "stream",
     "text": [
      "finish\n"
     ]
    }
   ],
   "source": [
    "# new_model = Model().to(device)\n",
    "new_model = model\n",
    "print(\"finish\")"
   ]
  },
  {
   "cell_type": "code",
   "execution_count": 86,
   "id": "c52f9b6f-5d1e-4031-9990-89f7608fd148",
   "metadata": {},
   "outputs": [
    {
     "name": "stdout",
     "output_type": "stream",
     "text": [
      "0\n",
      "1\n",
      "2\n",
      "3\n",
      "4\n",
      "5\n",
      "6\n",
      "7\n",
      "8\n",
      "9\n",
      "10\n",
      "11\n",
      "12\n",
      "13\n",
      "14\n",
      "0.8708333333333333\n"
     ]
    }
   ],
   "source": [
    "def test():\n",
    "    # model = torch.load('model_dir/bert_large_uncased_imdb_bs16').to(device)\n",
    "    # model = BertModel.from_pretrained('model_dir/bert-large-uncased/').to(device)\n",
    "    new_model.eval()\n",
    "    correct = 0\n",
    "    total = 0\n",
    "    loader_test = torch.utils.data.DataLoader(dataset=Dataset('test'),\n",
    "                                            batch_size=32,\n",
    "                                            collate_fn=collate_fn,\n",
    "                                            shuffle=True,\n",
    "                                            drop_last=True)\n",
    "\n",
    "    for i, (input_ids, attention_mask, token_type_ids, labels) in enumerate(loader_test):\n",
    "        if i == 15:\n",
    "            break\n",
    "        print(i)\n",
    "        with torch.no_grad():\n",
    "            input_ids = input_ids.to(device)\n",
    "            attention_mask = attention_mask.to(device)\n",
    "            token_type_ids = token_type_ids.to(device)\n",
    "            labels = labels.to(device)\n",
    "            out = new_model(input_ids=input_ids,\n",
    "                        attention_mask = attention_mask,\n",
    "                        token_type_ids = token_type_ids)\n",
    "            out = out.argmax(dim=1)\n",
    "            correct += (out == labels).sum().item()\n",
    "            total += len(labels)\n",
    "            # print(out)\n",
    "            # print(labels)\n",
    "            # print(\"==========================\")\n",
    "    print(correct / total)\n",
    "\n",
    "test()"
   ]
  },
  {
   "cell_type": "code",
   "execution_count": 87,
   "id": "358b74b6-e186-43b8-81a1-179cbd83f553",
   "metadata": {},
   "outputs": [],
   "source": [
    "quit()"
   ]
  },
  {
   "cell_type": "code",
   "execution_count": null,
   "id": "b55418eb-10aa-4e36-8941-4628d589252d",
   "metadata": {},
   "outputs": [],
   "source": []
  }
 ],
 "metadata": {
  "kernelspec": {
   "display_name": "Python 3 (ipykernel)",
   "language": "python",
   "name": "python3"
  },
  "language_info": {
   "codemirror_mode": {
    "name": "ipython",
    "version": 3
   },
   "file_extension": ".py",
   "mimetype": "text/x-python",
   "name": "python",
   "nbconvert_exporter": "python",
   "pygments_lexer": "ipython3",
   "version": "3.10.14"
  }
 },
 "nbformat": 4,
 "nbformat_minor": 5
}
