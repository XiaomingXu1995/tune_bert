{
 "cells": [
  {
   "cell_type": "code",
   "execution_count": null,
   "id": "0e607c6f-2db1-42db-8c74-524d3f761973",
   "metadata": {},
   "outputs": [],
   "source": [
    "import torch\n",
    "from datasets import load_dataset\n",
    "\n",
    "class Dataset(torch.utils.data.Dataset):\n",
    "    def __init__(self, split):\n",
    "        self.dataset = load_dataset(path='data_dir/stanfordnlp_imdb/', split=split)\n",
    "        \n",
    "    def __len__(self):\n",
    "        return len(self.dataset)\n",
    "    def __getitem__(self, i):\n",
    "        text = self.dataset[i]['text']\n",
    "        label = self.dataset[i]['label']\n",
    "\n",
    "        return text, label\n",
    "\n",
    "\n",
    "def collate_fn(data):\n",
    "    sents = [i[0] for i in data]\n",
    "    labels = [i[1] for i in data]\n",
    "\n",
    "    # encoding\n",
    "    data = token.batch_encode_plus(batch_text_or_text_pairs=sents,\n",
    "                                    truncation=True,\n",
    "                                    padding = 'max_length',\n",
    "                                    max_length = 512,\n",
    "                                    return_tensors='pt',\n",
    "                                    return_length=True)\n",
    "\n",
    "    # input_ids numbers after encoding\n",
    "    # atention_mask: padding positions are 0, the others are 1\n",
    "    input_ids = data['input_ids']\n",
    "    attention_mask = data['attention_mask']\n",
    "    token_type_ids = data['token_type_ids']\n",
    "    labels = torch.LongTensor(labels)\n",
    "\n",
    "    return input_ids, attention_mask, token_type_ids, labels\n",
    "\n",
    "print(\"finished\")"
   ]
  },
  {
   "cell_type": "code",
   "execution_count": null,
   "id": "1c132d13-0739-42b7-a858-8e8c9d9b9988",
   "metadata": {
    "scrolled": true
   },
   "outputs": [],
   "source": [
    "from transformers import BertModel\n",
    "from transformers import BertTokenizer\n",
    "device = torch.device('cuda:1' if torch.cuda.is_available() else 'cpu')\n",
    "\n",
    "# pretrained = BertModel.from_pretrained('model_dir/bert-large-uncased/').to(device)\n",
    "pretrained = BertModel.from_pretrained('model_dir/bert_large_uncased_imdb_pretrained').to(device)\n",
    "token = BertTokenizer.from_pretrained('model_dir/bert_large_uncased_imdb_pretrained')\n",
    "\n",
    "class Model(torch.nn.Module):\n",
    "    def __init__(self):\n",
    "        super().__init__()\n",
    "        self.fc = torch.nn.Linear(1024, 2)\n",
    "\n",
    "    def forward(self, input_ids, attention_mask, token_type_ids):\n",
    "        # with torch.no_grad():\n",
    "        out = pretrained(input_ids=input_ids,\n",
    "                         attention_mask=attention_mask,\n",
    "                         token_type_ids=token_type_ids)\n",
    "        out = self.fc(out.last_hidden_state[:, 0])\n",
    "        # out = out.softmax(dim=1)\n",
    "        return out\n",
    "\n",
    "model = Model().to(device)\n",
    "print(\"finished\")"
   ]
  },
  {
   "cell_type": "code",
   "execution_count": null,
   "id": "bf60b19c-4d9f-4aef-881a-e3161a869386",
   "metadata": {},
   "outputs": [],
   "source": [
    "def test():\n",
    "    \n",
    "    model = torch.load('model_dir/bert_large_uncased_imdb_bs16').to(device)\n",
    "    \n",
    "    model.eval()\n",
    "    correct = 0\n",
    "    total = 0\n",
    "    loader_test = torch.utils.data.DataLoader(dataset=Dataset('test'),\n",
    "                                            batch_size=32,\n",
    "                                            collate_fn=collate_fn,\n",
    "                                            shuffle=True,\n",
    "                                            drop_last=True)\n",
    "\n",
    "    for i, (input_ids, attention_mask, token_type_ids, labels) in enumerate(loader_test):\n",
    "        if i == 5:\n",
    "            break\n",
    "        print(i)\n",
    "        with torch.no_grad():\n",
    "            input_ids = input_ids.to(device)\n",
    "            attention_mask = attention_mask.to(device)\n",
    "            token_type_ids = token_type_ids.to(device)\n",
    "            labels = labels.to(device)\n",
    "            out = model(input_ids=input_ids,\n",
    "                        attention_mask = attention_mask,\n",
    "                        token_type_ids = token_type_ids)\n",
    "            out = out.argmax(dim=1)\n",
    "            correct += (out == labels).sum().item()\n",
    "            total += len(labels)\n",
    "            # print(out)\n",
    "            # print(labels)\n",
    "            # print(\"==========================\")\n",
    "    print(correct / total)\n",
    "\n",
    "test()"
   ]
  },
  {
   "cell_type": "code",
   "execution_count": null,
   "id": "31ea2e12-c285-4595-858d-9594032449a2",
   "metadata": {},
   "outputs": [],
   "source": [
    "\n"
   ]
  },
  {
   "cell_type": "code",
   "execution_count": null,
   "id": "6bf04658-ed8f-46c4-9c13-d526f1b96fbf",
   "metadata": {},
   "outputs": [],
   "source": []
  }
 ],
 "metadata": {
  "kernelspec": {
   "display_name": "Python 3 (ipykernel)",
   "language": "python",
   "name": "python3"
  },
  "language_info": {
   "codemirror_mode": {
    "name": "ipython",
    "version": 3
   },
   "file_extension": ".py",
   "mimetype": "text/x-python",
   "name": "python",
   "nbconvert_exporter": "python",
   "pygments_lexer": "ipython3",
   "version": "3.10.14"
  }
 },
 "nbformat": 4,
 "nbformat_minor": 5
}
