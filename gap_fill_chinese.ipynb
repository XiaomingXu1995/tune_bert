{
 "cells": [
  {
   "cell_type": "code",
   "execution_count": 5,
   "id": "60ed0f0b-280d-4488-a70e-7b5f271e1985",
   "metadata": {},
   "outputs": [
    {
     "data": {
      "text/plain": [
       "(9192,\n",
       " '选择珠江花园的原因就是方便，有电动扶梯直接到达海边，周围餐馆、食廊、商场、超市、摊位一应俱全。酒店装修一般，但还算整洁。 泳池在大堂的屋顶，因此很小，不过女儿倒是喜欢。 包的早餐是西式的，还算丰富。 服务吗，一般')"
      ]
     },
     "execution_count": 5,
     "metadata": {},
     "output_type": "execute_result"
    }
   ],
   "source": [
    "import torch\n",
    "from datasets import load_dataset\n",
    "\n",
    "\n",
    "#定义数据集\n",
    "class Dataset(torch.utils.data.Dataset):\n",
    "    def __init__(self, split):\n",
    "        dataset = load_dataset(path='./ChnSentiCorp', split=split)\n",
    "\n",
    "        def f(data):\n",
    "            return len(data['text']) > 30\n",
    "\n",
    "        self.dataset = dataset.filter(f)\n",
    "\n",
    "    def __len__(self):\n",
    "        return len(self.dataset)\n",
    "\n",
    "    def __getitem__(self, i):\n",
    "        text = self.dataset[i]['text']\n",
    "\n",
    "        return text\n",
    "\n",
    "\n",
    "dataset = Dataset('train')\n",
    "\n",
    "len(dataset), dataset[0]"
   ]
  },
  {
   "cell_type": "code",
   "execution_count": 12,
   "id": "44c52a84-354f-410f-bb25-02dfe0c8c802",
   "metadata": {},
   "outputs": [
    {
     "data": {
      "text/plain": [
       "BertTokenizer(name_or_path='./model_dir/bert-base-chinese', vocab_size=21128, model_max_length=512, is_fast=False, padding_side='right', truncation_side='right', special_tokens={'unk_token': '[UNK]', 'sep_token': '[SEP]', 'pad_token': '[PAD]', 'cls_token': '[CLS]', 'mask_token': '[MASK]'}, clean_up_tokenization_spaces=True),  added_tokens_decoder={\n",
       "\t0: AddedToken(\"[PAD]\", rstrip=False, lstrip=False, single_word=False, normalized=False, special=True),\n",
       "\t100: AddedToken(\"[UNK]\", rstrip=False, lstrip=False, single_word=False, normalized=False, special=True),\n",
       "\t101: AddedToken(\"[CLS]\", rstrip=False, lstrip=False, single_word=False, normalized=False, special=True),\n",
       "\t102: AddedToken(\"[SEP]\", rstrip=False, lstrip=False, single_word=False, normalized=False, special=True),\n",
       "\t103: AddedToken(\"[MASK]\", rstrip=False, lstrip=False, single_word=False, normalized=False, special=True),\n",
       "}"
      ]
     },
     "execution_count": 12,
     "metadata": {},
     "output_type": "execute_result"
    }
   ],
   "source": [
    "from transformers import BertTokenizer\n",
    "\n",
    "#加载字典和分词工具\n",
    "token = BertTokenizer.from_pretrained('./model_dir/bert-base-chinese')\n",
    "\n",
    "token"
   ]
  },
  {
   "cell_type": "code",
   "execution_count": 7,
   "id": "29459b3e-9c11-4f07-a6ef-12224b218ffd",
   "metadata": {},
   "outputs": [
    {
     "name": "stdout",
     "output_type": "stream",
     "text": [
      "574\n",
      "[CLS] 外 观 漂 亮 ， 最 大 的 卖 点 。 键 盘 大 [MASK] 联 想 ｓ１０ 被 淘 汰 的 原 因 。 电 池 [SEP]\n",
      "，\n"
     ]
    },
    {
     "data": {
      "text/plain": [
       "(torch.Size([16, 30]),\n",
       " torch.Size([16, 30]),\n",
       " torch.Size([16, 30]),\n",
       " torch.Size([16]))"
      ]
     },
     "execution_count": 7,
     "metadata": {},
     "output_type": "execute_result"
    }
   ],
   "source": [
    "def collate_fn(data):\n",
    "    #编码\n",
    "    data = token.batch_encode_plus(batch_text_or_text_pairs=data,\n",
    "                                   truncation=True,\n",
    "                                   padding='max_length',\n",
    "                                   max_length=30,\n",
    "                                   return_tensors='pt',\n",
    "                                   return_length=True)\n",
    "\n",
    "    #input_ids:编码之后的数字\n",
    "    #attention_mask:是补零的位置是0,其他位置是1\n",
    "    input_ids = data['input_ids']\n",
    "    attention_mask = data['attention_mask']\n",
    "    token_type_ids = data['token_type_ids']\n",
    "\n",
    "    #把第15个词固定替换为mask\n",
    "    labels = input_ids[:, 15].reshape(-1).clone()\n",
    "    input_ids[:, 15] = token.get_vocab()[token.mask_token]\n",
    "\n",
    "    #print(data['length'], data['length'].max())\n",
    "\n",
    "    return input_ids, attention_mask, token_type_ids, labels\n",
    "\n",
    "\n",
    "#数据加载器\n",
    "loader = torch.utils.data.DataLoader(dataset=dataset,\n",
    "                                     batch_size=16,\n",
    "                                     collate_fn=collate_fn,\n",
    "                                     shuffle=True,\n",
    "                                     drop_last=True)\n",
    "\n",
    "for i, (input_ids, attention_mask, token_type_ids,\n",
    "        labels) in enumerate(loader):\n",
    "    break\n",
    "\n",
    "print(len(loader))\n",
    "print(token.decode(input_ids[0]))\n",
    "print(token.decode(labels[0]))\n",
    "input_ids.shape, attention_mask.shape, token_type_ids.shape, labels.shape"
   ]
  },
  {
   "cell_type": "code",
   "execution_count": 13,
   "id": "50ff3c01-18dd-4683-981c-f6962b30051f",
   "metadata": {},
   "outputs": [
    {
     "data": {
      "text/plain": [
       "torch.Size([16, 30, 768])"
      ]
     },
     "execution_count": 13,
     "metadata": {},
     "output_type": "execute_result"
    }
   ],
   "source": [
    "from transformers import BertModel\n",
    "\n",
    "#加载预训练模型\n",
    "pretrained = BertModel.from_pretrained('./model_dir/bert-base-chinese')\n",
    "\n",
    "#不训练,不需要计算梯度\n",
    "for param in pretrained.parameters():\n",
    "    param.requires_grad_(False)\n",
    "\n",
    "#模型试算\n",
    "out = pretrained(input_ids=input_ids,\n",
    "           attention_mask=attention_mask,\n",
    "           token_type_ids=token_type_ids)\n",
    "\n",
    "out.last_hidden_state.shape"
   ]
  },
  {
   "cell_type": "code",
   "execution_count": 9,
   "id": "0df3f481-6862-49b3-8fbe-e1d696dce9e1",
   "metadata": {},
   "outputs": [
    {
     "data": {
      "text/plain": [
       "torch.Size([16, 21128])"
      ]
     },
     "execution_count": 9,
     "metadata": {},
     "output_type": "execute_result"
    }
   ],
   "source": [
    "#定义下游任务模型\n",
    "class Model(torch.nn.Module):\n",
    "    def __init__(self):\n",
    "        super().__init__()\n",
    "        self.decoder = torch.nn.Linear(768, token.vocab_size, bias=False)\n",
    "        self.bias = torch.nn.Parameter(torch.zeros(token.vocab_size))\n",
    "        self.decoder.bias = self.bias\n",
    "\n",
    "    def forward(self, input_ids, attention_mask, token_type_ids):\n",
    "        with torch.no_grad():\n",
    "            out = pretrained(input_ids=input_ids,\n",
    "                             attention_mask=attention_mask,\n",
    "                             token_type_ids=token_type_ids)\n",
    "\n",
    "        out = self.decoder(out.last_hidden_state[:, 15])\n",
    "\n",
    "        return out\n",
    "\n",
    "\n",
    "model = Model()\n",
    "\n",
    "model(input_ids=input_ids,\n",
    "      attention_mask=attention_mask,\n",
    "      token_type_ids=token_type_ids).shape"
   ]
  },
  {
   "cell_type": "code",
   "execution_count": 10,
   "id": "b1f99f8d-c9e7-4bb2-b87a-c8e8b8126d9a",
   "metadata": {},
   "outputs": [
    {
     "name": "stderr",
     "output_type": "stream",
     "text": [
      "/home/user_home/xiaomingxu/mambaforge/lib/python3.10/site-packages/transformers/optimization.py:591: FutureWarning: This implementation of AdamW is deprecated and will be removed in a future version. Use the PyTorch implementation torch.optim.AdamW instead, or set `no_deprecation_warning=True` to disable this warning\n",
      "  warnings.warn(\n"
     ]
    },
    {
     "name": "stdout",
     "output_type": "stream",
     "text": [
      "0 0 10.092287063598633 0.0\n",
      "0 50 8.042887687683105 0.125\n",
      "0 100 7.124838829040527 0.0625\n",
      "0 150 5.69180965423584 0.125\n",
      "0 200 4.263329029083252 0.5625\n",
      "0 250 4.823337554931641 0.125\n",
      "0 300 4.204056739807129 0.3125\n",
      "0 350 4.238401412963867 0.3125\n",
      "0 400 4.561729431152344 0.4375\n",
      "0 450 4.504779815673828 0.3125\n",
      "0 500 2.0661520957946777 0.75\n",
      "0 550 2.909170627593994 0.5\n",
      "1 0 2.9464640617370605 0.625\n",
      "1 50 3.2296972274780273 0.4375\n",
      "1 100 2.951188802719116 0.4375\n",
      "1 150 3.360457181930542 0.375\n",
      "1 200 1.510347604751587 0.75\n",
      "1 250 1.9105085134506226 0.75\n",
      "1 300 1.6942493915557861 0.6875\n",
      "1 350 2.536846399307251 0.4375\n",
      "1 400 1.6170709133148193 0.6875\n",
      "1 450 2.510134696960449 0.5625\n",
      "1 500 2.320904016494751 0.5\n",
      "1 550 0.9959594011306763 0.8125\n",
      "2 0 1.072443962097168 0.75\n",
      "2 50 1.260981798171997 0.75\n",
      "2 100 1.3583310842514038 0.75\n",
      "2 150 0.9122206568717957 0.75\n",
      "2 200 0.680137038230896 0.875\n",
      "2 250 0.6329259276390076 0.9375\n",
      "2 300 1.198613166809082 0.75\n",
      "2 350 0.6955475807189941 0.8125\n",
      "2 400 0.5126619935035706 0.9375\n",
      "2 450 1.1554442644119263 0.6875\n",
      "2 500 1.0152795314788818 0.875\n",
      "2 550 1.1818617582321167 0.8125\n",
      "3 0 0.40330806374549866 0.9375\n",
      "3 50 0.8266111612319946 0.8125\n",
      "3 100 0.7153340578079224 0.875\n",
      "3 150 0.5927301049232483 0.9375\n",
      "3 200 0.6113697290420532 0.9375\n",
      "3 250 0.33280855417251587 0.875\n",
      "3 300 0.3969584107398987 0.9375\n",
      "3 350 0.40981873869895935 0.9375\n",
      "3 400 0.7000837326049805 0.8125\n",
      "3 450 0.5446671843528748 0.875\n",
      "3 500 0.4667190611362457 0.875\n",
      "3 550 0.7891752123832703 0.9375\n",
      "4 0 0.2950083017349243 1.0\n",
      "4 50 0.7429075241088867 1.0\n",
      "4 100 0.470472514629364 0.9375\n",
      "4 150 0.3094816505908966 1.0\n",
      "4 200 0.5220970511436462 0.875\n",
      "4 250 0.27541136741638184 1.0\n",
      "4 300 0.47418731451034546 1.0\n",
      "4 350 0.5228983163833618 0.875\n",
      "4 400 0.20679378509521484 0.9375\n",
      "4 450 0.5005448460578918 1.0\n",
      "4 500 0.2919809818267822 1.0\n",
      "4 550 0.44539329409599304 0.9375\n"
     ]
    }
   ],
   "source": [
    "from transformers import AdamW\n",
    "\n",
    "#训练\n",
    "optimizer = AdamW(model.parameters(), lr=5e-4)\n",
    "criterion = torch.nn.CrossEntropyLoss()\n",
    "\n",
    "model.train()\n",
    "for epoch in range(5):\n",
    "    for i, (input_ids, attention_mask, token_type_ids,\n",
    "            labels) in enumerate(loader):\n",
    "        out = model(input_ids=input_ids,\n",
    "                    attention_mask=attention_mask,\n",
    "                    token_type_ids=token_type_ids)\n",
    "\n",
    "        loss = criterion(out, labels)\n",
    "        loss.backward()\n",
    "        optimizer.step()\n",
    "        optimizer.zero_grad()\n",
    "\n",
    "        if i % 50 == 0:\n",
    "            out = out.argmax(dim=1)\n",
    "            accuracy = (out == labels).sum().item() / len(labels)\n",
    "\n",
    "            print(epoch, i, loss.item(), accuracy)"
   ]
  },
  {
   "cell_type": "code",
   "execution_count": 11,
   "id": "4ebd07d1-75bc-4433-9708-c719da626d5c",
   "metadata": {},
   "outputs": [
    {
     "data": {
      "application/vnd.jupyter.widget-view+json": {
       "model_id": "07d534a1e2dc4856923f73873a57a65c",
       "version_major": 2,
       "version_minor": 0
      },
      "text/plain": [
       "Filter:   0%|          | 0/1200 [00:00<?, ? examples/s]"
      ]
     },
     "metadata": {},
     "output_type": "display_data"
    },
    {
     "name": "stdout",
     "output_type": "stream",
     "text": [
      "0\n",
      "[CLS] 孩 子 已 经 看 过 一 遍 了 ， 到 现 在 回 [MASK] 只 要 看 到 托 马 斯 还 是 拿 起 来 读 [SEP]\n",
      "家 家\n",
      "1\n",
      "[CLS] 容 易 产 生 指 纹 。 不 习 惯 分 区 。 由 [MASK] 出 货 量 大 了 ， 我 觉 得 在 配 货 的 [SEP]\n",
      "于 于\n",
      "2\n",
      "[CLS] 超 差 ！ ！ ！ 建 议 所 有 人 不 要 来 住 [MASK] 大 门 开 在 胡 同 里 ， 找 不 着 。 每 [SEP]\n",
      "！ ！\n",
      "3\n",
      "[CLS] 因 为 前 些 时 间 对 心 理 学 感 兴 趣 ， [MASK] 了 上 下 集 。 好 久 没 看 小 说 了 ， [SEP]\n",
      "买 买\n",
      "4\n",
      "[CLS] vista 系 统 跑 起 来 慢 ， 准 备 干 掉 装 [UNK] [MASK] 没 有 摄 像 头 、 读 卡 器 ， 买 的 时 [SEP]\n",
      "。 。\n",
      "5\n",
      "[CLS] 刚 拿 回 来 发 现 指 示 灯 位 置 开 胶 了 [MASK] 直 接 到 联 想 客 服 用 双 面 胶 粘 上 [SEP]\n",
      "， ，\n",
      "6\n",
      "[CLS] 用 起 来 还 不 错 ， 本 人 还 有 几 张 2000 [MASK] 100 1000 - 50 东 券 要 的 加 qq 673946 [SEP]\n",
      "- -\n",
      "7\n",
      "[CLS] 之 前 买 过 一 本 [UNK] 版 [UNK] 三 联 买 的 109 [MASK] 像 太 贵 了 啦 ！ 那 时 太 想 买 了 现 [SEP]\n",
      "好 好\n",
      "8\n",
      "[CLS] 贝 贝 熊 1 - 30 我 和 女 儿 都 很 喜 欢 [MASK] 我 也 通 过 它 们 间 接 的 对 孩 子 进 [SEP]\n",
      "， ，\n",
      "9\n",
      "[CLS] 看 到 推 荐 的 很 好 ， 就 买 了 。 宝 宝 [MASK] 像 不 喜 欢 ， 连 看 也 不 看 就 扔 到 [SEP]\n",
      "好 好\n",
      "10\n",
      "[CLS] 一 年 前 我 们 给 孩 子 6 岁 的 儿 子 买 [MASK] 卡 梅 拉 的 第 一 部 ， 孩 子 非 常 喜 [SEP]\n",
      "了 了\n",
      "11\n",
      "[CLS] 10 月 16 日 入 住 该 酒 店. 感 觉 不 错 [MASK], 离 汽 车 站 和 火 车 站 的 距 离 都 [SEP]\n",
      "哦 哦\n",
      "12\n",
      "[CLS] [UNK] 全 兼 容 ， 只 需 手 动 安 装 acpi 驱 [MASK] 。 ubuntu9. 04 全 兼 容 ， 建 议 装 ee [SEP]\n",
      "动 动\n",
      "13\n",
      "[CLS] 小 说 是 早 就 看 过 的. 买 来 只 是 为 [MASK] 收 藏, 可 恨 的 是 当 当 没 有 用 塑 [SEP]\n",
      "了 了\n",
      "14\n",
      "[CLS] 操 作 系 统 啊 真 不 好 加 一 个 windows 又 用 [MASK] 了 多 少 钱 ？ 建 议 增 加 安 装 系 统 [SEP]\n",
      "不 不\n",
      "0.6833333333333333\n"
     ]
    }
   ],
   "source": [
    "#测试\n",
    "def test():\n",
    "    model.eval()\n",
    "    correct = 0\n",
    "    total = 0\n",
    "\n",
    "    loader_test = torch.utils.data.DataLoader(dataset=Dataset('test'),\n",
    "                                              batch_size=32,\n",
    "                                              collate_fn=collate_fn,\n",
    "                                              shuffle=True,\n",
    "                                              drop_last=True)\n",
    "\n",
    "    for i, (input_ids, attention_mask, token_type_ids,\n",
    "            labels) in enumerate(loader_test):\n",
    "\n",
    "        if i == 15:\n",
    "            break\n",
    "\n",
    "        print(i)\n",
    "\n",
    "        with torch.no_grad():\n",
    "            out = model(input_ids=input_ids,\n",
    "                        attention_mask=attention_mask,\n",
    "                        token_type_ids=token_type_ids)\n",
    "\n",
    "        out = out.argmax(dim=1)\n",
    "        correct += (out == labels).sum().item()\n",
    "        total += len(labels)\n",
    "\n",
    "        print(token.decode(input_ids[0]))\n",
    "        print(token.decode(labels[0]), token.decode(labels[0]))\n",
    "\n",
    "    print(correct / total)\n",
    "\n",
    "\n",
    "test()"
   ]
  },
  {
   "cell_type": "code",
   "execution_count": null,
   "id": "61efacf7-56cf-4b06-a870-c818996a92dc",
   "metadata": {},
   "outputs": [],
   "source": []
  }
 ],
 "metadata": {
  "kernelspec": {
   "display_name": "Python 3 (ipykernel)",
   "language": "python",
   "name": "python3"
  },
  "language_info": {
   "codemirror_mode": {
    "name": "ipython",
    "version": 3
   },
   "file_extension": ".py",
   "mimetype": "text/x-python",
   "name": "python",
   "nbconvert_exporter": "python",
   "pygments_lexer": "ipython3",
   "version": "3.10.14"
  }
 },
 "nbformat": 4,
 "nbformat_minor": 5
}
